{
 "cells": [
  {
   "cell_type": "code",
   "execution_count": 4,
   "metadata": {},
   "outputs": [
    {
     "data": {
      "text/plain": [
       "'c:\\\\anaconda3\\\\envs\\\\venv\\\\lib\\\\site-packages\\\\chromedriver_autoinstaller\\\\107\\\\chromedriver.exe'"
      ]
     },
     "execution_count": 4,
     "metadata": {},
     "output_type": "execute_result"
    }
   ],
   "source": [
    "from selenium import webdriver\n",
    "import chromedriver_autoinstaller\n",
    "import firebase_admin\n",
    "from firebase_admin import credentials\n",
    "from firebase_admin import firestore\n",
    "from selenium.webdriver.common.by import By\n",
    "chromedriver_autoinstaller.install()"
   ]
  },
  {
   "cell_type": "code",
   "execution_count": 24,
   "metadata": {},
   "outputs": [],
   "source": [
    "options = webdriver.ChromeOptions()\n",
    "options.add_argument(\"headless\")\n",
    "\n",
    "driver = webdriver.Chrome(options=options)\n"
   ]
  },
  {
   "cell_type": "code",
   "execution_count": 5,
   "metadata": {},
   "outputs": [],
   "source": [
    "\n",
    "\n",
    "cred = credentials.Certificate('./app/mykey.json')\n",
    "project_id = \"ssafy-final-pjt-3addc\"\n",
    "firebase_admin = firebase_admin.initialize_app(cred,{\n",
    "  'projectId' : project_id})\n",
    "\n",
    "db = firestore.client();"
   ]
  },
  {
   "cell_type": "code",
   "execution_count": 6,
   "metadata": {},
   "outputs": [
    {
     "data": {
      "text/plain": [
       "update_time {\n",
       "  seconds: 1667402738\n",
       "  nanos: 564507000\n",
       "}"
      ]
     },
     "execution_count": 6,
     "metadata": {},
     "output_type": "execute_result"
    }
   ],
   "source": [
    "doc_ref = db.collection(u'text').document(u\"test\")\n",
    "doc_ref.set({\n",
    "  u'leve' : 20,\n",
    "  u'money' : 700\n",
    "})"
   ]
  },
  {
   "cell_type": "code",
   "execution_count": 45,
   "metadata": {},
   "outputs": [
    {
     "ename": "TypeError",
     "evalue": "sequence item 1: expected str instance, int found",
     "output_type": "error",
     "traceback": [
      "\u001b[1;31m---------------------------------------------------------------------------\u001b[0m",
      "\u001b[1;31mTypeError\u001b[0m                                 Traceback (most recent call last)",
      "\u001b[1;32mc:\\final_project\\crawling\\S07P31E104\\crawling\\crawling.ipynb 셀 5\u001b[0m in \u001b[0;36m<cell line: 3>\u001b[1;34m()\u001b[0m\n\u001b[0;32m      <a href='vscode-notebook-cell:/c%3A/final_project/crawling/S07P31E104/crawling/crawling.ipynb#X10sZmlsZQ%3D%3D?line=0'>1</a>\u001b[0m problem_ref \u001b[39m=\u001b[39m db\u001b[39m.\u001b[39mcollection(\u001b[39mu\u001b[39m\u001b[39m'\u001b[39m\u001b[39mproblems\u001b[39m\u001b[39m'\u001b[39m)\n\u001b[0;32m      <a href='vscode-notebook-cell:/c%3A/final_project/crawling/S07P31E104/crawling/crawling.ipynb#X10sZmlsZQ%3D%3D?line=2'>3</a>\u001b[0m \u001b[39mfor\u001b[39;00m tier \u001b[39min\u001b[39;00m \u001b[39mrange\u001b[39m(\u001b[39m1\u001b[39m,\u001b[39m21\u001b[39m):\n\u001b[1;32m----> <a href='vscode-notebook-cell:/c%3A/final_project/crawling/S07P31E104/crawling/crawling.ipynb#X10sZmlsZQ%3D%3D?line=3'>4</a>\u001b[0m     doc_ref \u001b[39m=\u001b[39m problem_ref\u001b[39m.\u001b[39;49mdocument(tier)\n\u001b[0;32m      <a href='vscode-notebook-cell:/c%3A/final_project/crawling/S07P31E104/crawling/crawling.ipynb#X10sZmlsZQ%3D%3D?line=4'>5</a>\u001b[0m     page\u001b[39m=\u001b[39m\u001b[39m1\u001b[39m\n\u001b[0;32m      <a href='vscode-notebook-cell:/c%3A/final_project/crawling/S07P31E104/crawling/crawling.ipynb#X10sZmlsZQ%3D%3D?line=5'>6</a>\u001b[0m     problem_list\u001b[39m=\u001b[39m[]\n",
      "File \u001b[1;32mc:\\anaconda3\\envs\\venv\\lib\\site-packages\\google\\cloud\\firestore_v1\\base_collection.py:130\u001b[0m, in \u001b[0;36mBaseCollectionReference.document\u001b[1;34m(self, document_id)\u001b[0m\n\u001b[0;32m    126\u001b[0m \u001b[39m# Append `self._path` and the passed document's ID as long as the first\u001b[39;00m\n\u001b[0;32m    127\u001b[0m \u001b[39m# element in the path is not an empty string, which comes from setting the\u001b[39;00m\n\u001b[0;32m    128\u001b[0m \u001b[39m# parent to \"\" for recursive queries.\u001b[39;00m\n\u001b[0;32m    129\u001b[0m child_path \u001b[39m=\u001b[39m \u001b[39mself\u001b[39m\u001b[39m.\u001b[39m_path \u001b[39m+\u001b[39m (document_id,) \u001b[39mif\u001b[39;00m \u001b[39mself\u001b[39m\u001b[39m.\u001b[39m_path[\u001b[39m0\u001b[39m] \u001b[39melse\u001b[39;00m (document_id,)\n\u001b[1;32m--> 130\u001b[0m \u001b[39mreturn\u001b[39;00m \u001b[39mself\u001b[39;49m\u001b[39m.\u001b[39;49m_client\u001b[39m.\u001b[39;49mdocument(\u001b[39m*\u001b[39;49mchild_path)\n",
      "File \u001b[1;32mc:\\anaconda3\\envs\\venv\\lib\\site-packages\\google\\cloud\\firestore_v1\\client.py:209\u001b[0m, in \u001b[0;36mClient.document\u001b[1;34m(self, *document_path)\u001b[0m\n\u001b[0;32m    177\u001b[0m \u001b[39mdef\u001b[39;00m \u001b[39mdocument\u001b[39m(\u001b[39mself\u001b[39m, \u001b[39m*\u001b[39mdocument_path: \u001b[39mstr\u001b[39m) \u001b[39m-\u001b[39m\u001b[39m>\u001b[39m DocumentReference:\n\u001b[0;32m    178\u001b[0m     \u001b[39m\"\"\"Get a reference to a document in a collection.\u001b[39;00m\n\u001b[0;32m    179\u001b[0m \n\u001b[0;32m    180\u001b[0m \u001b[39m    For a top-level document:\u001b[39;00m\n\u001b[1;32m   (...)\u001b[0m\n\u001b[0;32m    206\u001b[0m \u001b[39m        A reference to a document in a collection.\u001b[39;00m\n\u001b[0;32m    207\u001b[0m \u001b[39m    \"\"\"\u001b[39;00m\n\u001b[0;32m    208\u001b[0m     \u001b[39mreturn\u001b[39;00m DocumentReference(\n\u001b[1;32m--> 209\u001b[0m         \u001b[39m*\u001b[39m\u001b[39mself\u001b[39;49m\u001b[39m.\u001b[39;49m_document_path_helper(\u001b[39m*\u001b[39;49mdocument_path), client\u001b[39m=\u001b[39m\u001b[39mself\u001b[39m\n\u001b[0;32m    210\u001b[0m     )\n",
      "File \u001b[1;32mc:\\anaconda3\\envs\\venv\\lib\\site-packages\\google\\cloud\\firestore_v1\\base_client.py:320\u001b[0m, in \u001b[0;36mBaseClient._document_path_helper\u001b[1;34m(self, *document_path)\u001b[0m\n\u001b[0;32m    318\u001b[0m path \u001b[39m=\u001b[39m _path_helper(document_path)\n\u001b[0;32m    319\u001b[0m base_path \u001b[39m=\u001b[39m \u001b[39mself\u001b[39m\u001b[39m.\u001b[39m_database_string \u001b[39m+\u001b[39m \u001b[39m\"\u001b[39m\u001b[39m/documents/\u001b[39m\u001b[39m\"\u001b[39m\n\u001b[1;32m--> 320\u001b[0m joined_path \u001b[39m=\u001b[39m _helpers\u001b[39m.\u001b[39;49mDOCUMENT_PATH_DELIMITER\u001b[39m.\u001b[39;49mjoin(path)\n\u001b[0;32m    321\u001b[0m \u001b[39mif\u001b[39;00m joined_path\u001b[39m.\u001b[39mstartswith(base_path):\n\u001b[0;32m    322\u001b[0m     joined_path \u001b[39m=\u001b[39m joined_path[\u001b[39mlen\u001b[39m(base_path) :]\n",
      "\u001b[1;31mTypeError\u001b[0m: sequence item 1: expected str instance, int found"
     ]
    }
   ],
   "source": [
    "\n",
    "\n",
    "problem_ref = db.collection(u'problems')\n",
    "\n",
    "for tier in range(1,21):\n",
    "    doc_ref =  db.collection(u'problems').document(tier)\n",
    "    page=1\n",
    "    problem_list=[]\n",
    "    while True:\n",
    "      driver.get(\"https://www.acmicpc.net/problemset?sort=no_asc&solvedac_option=xz%2Cxn&tier={}&page={}\".format(tier,page))\n",
    "      element = driver.find_element(By.XPATH,'//*[@id=\"problemset\"]/tbody')\n",
    "      trElement = element.find_elements(By.TAG_NAME,\"tr\")\n",
    "      for tr in trElement:\n",
    "          infos = tr.find_elements(By.TAG_NAME,\"td\")\n",
    "          doc_ref.set({\n",
    "            u'problemId' : infos[0].text,\n",
    "            u'title' : infos[1].text,\n",
    "            u'tag' : infos[2].text,\n",
    "            u'correct' : infos[3].text,\n",
    "            u'submit' : infos[4].text,\n",
    "            u'ratio' : infos[5].text,\n",
    "          })\n",
    "          break\n",
    "      try:\n",
    "          element = driver.find_element(By.ID,'next_page');\n",
    "          page = element.text\n",
    "      except :\n",
    "          break\n",
    "\n",
    "problem_list\n"
   ]
  },
  {
   "cell_type": "code",
   "execution_count": 20,
   "metadata": {},
   "outputs": [],
   "source": [
    "\n",
    "\n",
    "\n"
   ]
  },
  {
   "cell_type": "code",
   "execution_count": 21,
   "metadata": {},
   "outputs": [
    {
     "name": "stdout",
     "output_type": "stream",
     "text": [
      "test = > {'money': 700, 'leve;': 20}\n"
     ]
    }
   ],
   "source": [
    "for doc in docs:\n",
    "    print(u'{} = > {}'.format(doc.id,doc.to_dict()))"
   ]
  },
  {
   "cell_type": "code",
   "execution_count": null,
   "metadata": {},
   "outputs": [],
   "source": []
  }
 ],
 "metadata": {
  "kernelspec": {
   "display_name": "Python 3.9.13 ('venv')",
   "language": "python",
   "name": "python3"
  },
  "language_info": {
   "codemirror_mode": {
    "name": "ipython",
    "version": 3
   },
   "file_extension": ".py",
   "mimetype": "text/x-python",
   "name": "python",
   "nbconvert_exporter": "python",
   "pygments_lexer": "ipython3",
   "version": "3.9.13"
  },
  "orig_nbformat": 4,
  "vscode": {
   "interpreter": {
    "hash": "0d13ff065812d6b21f40c41801a61370105401985c676ac7d677b8d920bf9e67"
   }
  }
 },
 "nbformat": 4,
 "nbformat_minor": 2
}
